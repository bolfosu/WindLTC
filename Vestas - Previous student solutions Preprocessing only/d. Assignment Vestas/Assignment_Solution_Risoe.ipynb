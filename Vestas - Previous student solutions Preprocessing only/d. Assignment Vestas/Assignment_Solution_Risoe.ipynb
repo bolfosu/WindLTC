{
 "cells": [
  {
   "cell_type": "code",
   "execution_count": null,
   "metadata": {
    "is_executing": true
   },
   "outputs": [],
   "source": [
    "import netCDF4 as nc\n",
    "import numpy as np\n",
    "from datetime import datetime, timedelta\n",
    "import pandas as pd\n",
    "import matplotlib.pyplot as plt\n",
    "import seaborn as sns\n",
    "from scipy.stats import weibull_min\n",
    "from sklearn.model_selection import train_test_split\n",
    "from sklearn.linear_model import LinearRegression, Ridge, RidgeCV, Lasso, LassoCV\n",
    "from sklearn.neighbors import KNeighborsRegressor\n",
    "from sklearn.model_selection import GridSearchCV\n",
    "from sklearn.pipeline import Pipeline\n",
    "from sklearn.preprocessing import StandardScaler"
   ]
  },
  {
   "cell_type": "markdown",
   "metadata": {},
   "source": [
    "# Risoe"
   ]
  },
  {
   "cell_type": "code",
   "execution_count": null,
   "metadata": {},
   "outputs": [],
   "source": [
    "file_path_risoe = 'Data/Risoe/risoe_m_all.nc'\n",
    "\n",
    "dataset = nc.Dataset(file_path_risoe, 'r')"
   ]
  },
  {
   "cell_type": "markdown",
   "metadata": {},
   "source": [
    "Load mast data in a dataframe"
   ]
  },
  {
   "cell_type": "code",
   "execution_count": null,
   "metadata": {},
   "outputs": [],
   "source": [
    "# as we have found out the qc values are either 0 or nan. So we guess it means quality control\n",
    "# and we think we can remove those\n",
    "\n",
    "# lets convert data to dataframe\n",
    "column_names = []\n",
    "for var_name in dataset.variables:\n",
    "    column_names.append(var_name)\n",
    "    \n",
    "df_data = pd.DataFrame()\n",
    "for column_name in column_names:\n",
    "    tmp_np = np.array(dataset.variables[column_name])\n",
    "    df_data[column_name] = tmp_np\n",
    "df_data.describe()"
   ]
  },
  {
   "cell_type": "code",
   "execution_count": null,
   "metadata": {},
   "outputs": [],
   "source": [
    "df_data = df_data.dropna()\n",
    "df_data.describe()"
   ]
  },
  {
   "cell_type": "code",
   "execution_count": null,
   "metadata": {},
   "outputs": [],
   "source": [
    "df_data.columns.values\n",
    "\n",
    "#remove qc columns\n",
    "df_cols_to_drop = []\n",
    "for col in df_data.columns.values:\n",
    "    if col.endswith(\"_qc\"):\n",
    "        df_cols_to_drop.append(col)\n",
    "        \n",
    "df_mast = df_data.drop(df_cols_to_drop, axis=1)"
   ]
  },
  {
   "cell_type": "code",
   "execution_count": null,
   "metadata": {},
   "outputs": [],
   "source": [
    "#histogram for all mast columns\n",
    "df_mast.hist()\n",
    "print(\"\")"
   ]
  },
  {
   "cell_type": "code",
   "execution_count": null,
   "metadata": {},
   "outputs": [],
   "source": [
    "plt.imshow(df_mast.corr())\n",
    "# display only columns with correlation higher than 0.75\n",
    "my_corr = df_mast.corr()\n",
    "my_corr[my_corr > 0.75].dropna(thresh=2).dropna(thresh=2, axis=1)"
   ]
  },
  {
   "cell_type": "code",
   "execution_count": null,
   "metadata": {},
   "outputs": [],
   "source": [
    "# convert time from mast to timestamp\n",
    "base_date_borglum = datetime(1997, 12, 11, 16, 5, 0)\n",
    "base_date_risoe = datetime(1995, 11, 20, 16, 25, 0)\n",
    "\n",
    "def time_convert(input):\n",
    "    time_delta = timedelta(minutes=int(input))\n",
    "    timestamp = base_date_risoe + time_delta\n",
    "    return pd.to_datetime(timestamp)\n",
    "    # return timestamp.strftime('%Y-%m-%d %H:%M:%S')\n",
    "\n",
    "\n",
    "for index, row in df_mast.iterrows():\n",
    "    time = row['time']\n",
    "    time_stamp = time_convert(time)\n",
    "    df_mast.at[index, 'TIMESTAMP'] = time_stamp\n",
    "\n",
    "df_mast['TIMESTAMP'] = pd.to_datetime(df_mast['TIMESTAMP'])"
   ]
  },
  {
   "cell_type": "markdown",
   "metadata": {},
   "source": [
    "we chose to use ws and wd for height 125 in mast so all the other columns that are no longer relevant are dropped"
   ]
  },
  {
   "cell_type": "code",
   "execution_count": null,
   "metadata": {},
   "outputs": [],
   "source": [
    "df_mast_just_wind = df_mast.drop(['time','ws44','ws77','wd77','t003','t044','t118','td01','rain','press','rhum','grad'], axis=1)\n",
    "df_mast_just_wind.head()"
   ]
  },
  {
   "cell_type": "markdown",
   "metadata": {},
   "source": [
    "created a new season column based on the timestamp"
   ]
  },
  {
   "cell_type": "code",
   "execution_count": null,
   "metadata": {},
   "outputs": [],
   "source": [
    "df_mast_wind_month = df_mast_just_wind.copy()\n",
    "\n",
    "df_mast_wind_month.dtypes\n",
    "\n",
    "print(((df_mast['TIMESTAMP'].dt.month + 1) // 4) + 1)\n",
    "df_mast_wind_month['season'] = ((df_mast['TIMESTAMP'].dt.month + 1) // 4) + 1\n",
    "df_mast_wind_month['year'] = df_mast['TIMESTAMP'].dt.year\n",
    "\n",
    "df_mast_wind_month.head(10)"
   ]
  },
  {
   "cell_type": "code",
   "execution_count": null,
   "metadata": {},
   "outputs": [],
   "source": [
    "#set the wind direction to 0 if 360 to avoid the avg becoming 180; also 0 and 360 are kind of the same thing\n",
    "df_mast_wind_month.loc[df_mast_wind_month['wd125'] == 360, 'wd125'] = 0\n",
    "\n",
    "df_mast_wind_month.describe()"
   ]
  },
  {
   "cell_type": "code",
   "execution_count": null,
   "metadata": {},
   "outputs": [],
   "source": [
    "#create columns for east and north based on cartesian coordinates for the wind speed and wind direction\n",
    "df_mast_wind_month_cartesian = df_mast_wind_month.copy()\n",
    "\n",
    "df_mast_wind_month_cartesian['east'] = df_mast_wind_month_cartesian['ws125'] * np.sin((df_mast_wind_month_cartesian['wd125']/360) * 2*np.pi)\n",
    "df_mast_wind_month_cartesian['north'] = df_mast_wind_month_cartesian['ws125'] * np.cos((df_mast_wind_month_cartesian['wd125']/360) * 2*np.pi)\n",
    "\n",
    "df_mast_wind_month_cartesian.head(10)"
   ]
  },
  {
   "attachments": {
    "image.png": {
     "image/png": "[encoded data removed]"
    }
   },
   "cell_type": "markdown",
   "metadata": {},
   "source": [
    "This is a wind turbine that moves towards the wind direction\\\n",
    "![image.png](attachment:image.png)"
   ]
  },
  {
   "cell_type": "code",
   "execution_count": null,
   "metadata": {},
   "outputs": [],
   "source": [
    "df_mast_wind_month_cartesian['TIMESTAMP'].duplicated().drop_duplicates()\n",
    "# there are no two times same so we expect that there was no time shift so no need to convert the timestamp to DK time"
   ]
  },
  {
   "attachments": {},
   "cell_type": "markdown",
   "metadata": {},
   "source": [
    "# Meso part"
   ]
  },
  {
   "cell_type": "code",
   "execution_count": null,
   "metadata": {},
   "outputs": [],
   "source": [
    "df_meso = pd.read_csv('Data/Risoe/meso_Risoe.csv')"
   ]
  },
  {
   "cell_type": "code",
   "execution_count": null,
   "metadata": {},
   "outputs": [],
   "source": [
    "#convert the datetime\n",
    "df_meso['TIMESTAMP'] = pd.to_datetime(df_meso['TIMESTAMP'])\n",
    "df_meso.head(10)\n",
    "df_meso.dtypes"
   ]
  },
  {
   "cell_type": "code",
   "execution_count": null,
   "metadata": {},
   "outputs": [],
   "source": [
    "# find if there are duplicates in date\n",
    "df_meso['TIMESTAMP'].duplicated().drop_duplicates()\n"
   ]
  },
  {
   "cell_type": "code",
   "execution_count": null,
   "metadata": {},
   "outputs": [],
   "source": [
    "#similar to mast, keep only data relevant to the height chosen\n",
    "\n",
    "df_meso_cleaned = df_meso[['TIMESTAMP','WSP120','WDIR120']]\n",
    "df_meso_cleaned"
   ]
  },
  {
   "cell_type": "code",
   "execution_count": null,
   "metadata": {},
   "outputs": [],
   "source": [
    "#split the timestamp into separate columns and also grouping the mast data into groups of 1 hour\n",
    "# taking the avg north and east speed for mast and combining them into polar coordinates\n",
    "\n",
    "df_mast_wind_month_cartesian['year'] = df_mast_wind_month_cartesian['TIMESTAMP'].dt.year\n",
    "df_mast_wind_month_cartesian['month'] = df_mast_wind_month_cartesian['TIMESTAMP'].dt.month\n",
    "df_mast_wind_month_cartesian['day'] = df_mast_wind_month_cartesian['TIMESTAMP'].dt.day\n",
    "df_mast_wind_month_cartesian['hour'] = df_mast_wind_month_cartesian['TIMESTAMP'].dt.hour\n",
    "mast_hourly_average = df_mast_wind_month_cartesian.groupby(['year', 'month', 'day', 'hour'])['north'].mean().reset_index()\n",
    "hourly_average_east = df_mast_wind_month_cartesian.groupby(['year', 'month', 'day', 'hour'])['east'].mean().reset_index()\n",
    "\n",
    "mast_hourly_average['east'] = hourly_average_east['east']\n",
    "mast_hourly_average['ws125'] = np.sqrt(mast_hourly_average['east']**2 + mast_hourly_average['north']**2)\n",
    "mast_hourly_average['wd125'] = (np.arctan2(mast_hourly_average['east'], mast_hourly_average['north'])/(2*np.pi)) * 360\n",
    "mast_hourly_average.head(10)"
   ]
  },
  {
   "cell_type": "code",
   "execution_count": null,
   "metadata": {},
   "outputs": [],
   "source": [
    "# convert into datetime \n",
    "\n",
    "def time_convert(year,month,day,hour):\n",
    "    timestamp = datetime(int(year),int(month),int(day),int(hour),0,0)\n",
    "    return pd.to_datetime(timestamp)\n",
    "    \n",
    "for index, row in mast_hourly_average.iterrows():\n",
    "    time_stamp = time_convert(row['year'],row['month'],row['day'],row['hour'])\n",
    "    mast_hourly_average.at[index, 'TIMESTAMP'] = time_stamp\n"
   ]
  },
  {
   "cell_type": "code",
   "execution_count": null,
   "metadata": {},
   "outputs": [],
   "source": [
    "# dropped timestamp subsets and added season\n",
    "mast_hourly_average_calculated = mast_hourly_average.drop(['month','day','hour'], axis=1)\n",
    "\n",
    "mast_hourly_average_calculated['season'] = ((mast_hourly_average_calculated['TIMESTAMP'].dt.month + 1) // 4) + 1\n",
    "\n",
    "mast_hourly_average_calculated"
   ]
  },
  {
   "cell_type": "code",
   "execution_count": null,
   "metadata": {},
   "outputs": [],
   "source": [
    "#join mast and meso data based on timestamp\n",
    "df_result = mast_hourly_average_calculated.join(df_meso_cleaned.set_index('TIMESTAMP'), on='TIMESTAMP', validate='1:1', rsuffix= 'x', lsuffix='y')\n",
    "df_result_cleaned = df_result.dropna()\n",
    "df_result_cleaned.describe()\n",
    "df_result_cleaned.tail(20)"
   ]
  },
  {
   "cell_type": "code",
   "execution_count": null,
   "metadata": {},
   "outputs": [],
   "source": [
    "# cleaning the data, assuming that ws125=0.15 and wd125=0 is an error, remove all records with these value combinations\n",
    "resultv1 = (df_result_cleaned.loc[(df_result_cleaned['ws125'] != 0.15) | (df_result_cleaned['wd125'] != 0)])\n",
    "\n",
    "resultv1.hist()\n",
    "print('')"
   ]
  },
  {
   "cell_type": "code",
   "execution_count": null,
   "metadata": {},
   "outputs": [],
   "source": [
    "# as a result of plotting the data, certain outliers will be removed\n",
    "\n",
    "data_without_outliers = resultv1.copy()\n",
    "\n",
    "data_without_outliers = data_without_outliers.loc[(data_without_outliers['ws125'] > 0.2)]\n",
    "data_without_outliers"
   ]
  },
  {
   "cell_type": "code",
   "execution_count": null,
   "metadata": {},
   "outputs": [],
   "source": [
    "# check if ws follows weibull for mast windspeed\n",
    "\n",
    "c, loc, scale = weibull_min.fit(data_without_outliers['ws125'].values)\n",
    "\n",
    "fig, ax = plt.subplots(1, 1)\n",
    "x = np.linspace(weibull_min.ppf(0.005, c,loc= loc, scale = scale),\n",
    "                weibull_min.ppf(0.995, c, loc= loc, scale = scale), 100)\n",
    "ax.plot(x, weibull_min.pdf(x, c, loc= loc, scale = scale),\n",
    "       'r-', lw=5, alpha=0.6, label='weibull_min pdf')\n",
    "\n",
    "ax.hist(data_without_outliers['ws125'].values, density=True, bins='auto', histtype='stepfilled', alpha=0.2)\n",
    "\n",
    "ax.set_xlim([x[0], x[-1]])\n",
    "\n",
    "ax.legend(loc='best', frameon=False)\n",
    "\n",
    "plt.show()"
   ]
  },
  {
   "cell_type": "code",
   "execution_count": null,
   "metadata": {},
   "outputs": [],
   "source": [
    "# check if ws follows weibull for meso windspeed\n",
    "\n",
    "c, loc, scale = weibull_min.fit(data_without_outliers['WSP120'].values)\n",
    "fig, ax = plt.subplots(1, 1)\n",
    "x = np.linspace(weibull_min.ppf(0.005, c, loc= loc, scale = scale),\n",
    "                weibull_min.ppf(0.995, c, loc=loc, scale = scale), 100)\n",
    "ax.plot(x, weibull_min.pdf(x, c, loc= loc, scale = scale),\n",
    "       'r-', lw=5, alpha=0.6, label='weibull_min pdf')\n",
    "\n",
    "ax.hist(data_without_outliers['WSP120'].values, density=True, bins='auto', histtype='stepfilled', alpha=0.2)\n",
    "\n",
    "ax.set_xlim([x[0], x[-1]])\n",
    "\n",
    "ax.legend(loc='best', frameon=False)\n",
    "\n",
    "plt.show()"
   ]
  },
  {
   "cell_type": "code",
   "execution_count": null,
   "metadata": {},
   "outputs": [],
   "source": [
    "#drop the timestamp and checking the correlation of the data\n",
    "data_without_outliers.corr()\n",
    "\n",
    "data_without_outliersv2 = data_without_outliers.drop(['TIMESTAMP'], axis = 1)\n",
    "\n",
    "my_corr = data_without_outliersv2.corr()\n",
    "display(my_corr[(my_corr > 0.75) | (my_corr < -0.75)].dropna(thresh=2).dropna(thresh=2, axis=1))\n",
    "display(my_corr)\n",
    "\n",
    "data_without_outliersv2.corr()"
   ]
  },
  {
   "cell_type": "markdown",
   "metadata": {},
   "source": [
    "## Model development"
   ]
  }
 ],
 "metadata": {
  "kernelspec": {
   "display_name": "base",
   "language": "python",
   "name": "python3"
  },
  "language_info": {
   "codemirror_mode": {
    "name": "ipython",
    "version": 3
   },
   "file_extension": ".py",
   "mimetype": "text/x-python",
   "name": "python",
   "nbconvert_exporter": "python",
   "pygments_lexer": "ipython3",
   "version": "3.11.5"
  }
 },
 "nbformat": 4,
 "nbformat_minor": 2
}
